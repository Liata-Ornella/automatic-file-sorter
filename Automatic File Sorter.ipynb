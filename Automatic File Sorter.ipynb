{
 "cells": [
  {
   "cell_type": "markdown",
   "id": "e9264cec-b047-4d5e-8ed8-55479f9a1191",
   "metadata": {},
   "source": [
    "# Automatic File Sorter in File Explorer"
   ]
  },
  {
   "cell_type": "code",
   "execution_count": 1,
   "id": "25a83955-eda6-422f-9a8c-013c22010b73",
   "metadata": {},
   "outputs": [],
   "source": [
    "import os, shutil"
   ]
  },
  {
   "cell_type": "code",
   "execution_count": 13,
   "id": "6a12a122-79ce-48da-b646-7d52e5175cc2",
   "metadata": {},
   "outputs": [],
   "source": [
    "# r helps the system read it as a raw file and not get errors for all the symbols like back slasj \\\n",
    "\n",
    "path = r\"C:/Users/l4sd/anaconda3/condabin/Learning_Python_with_Alex_the_analyst/file sorting/\""
   ]
  },
  {
   "cell_type": "code",
   "execution_count": 32,
   "id": "d6c328b7-ad1a-4694-ab90-f5abbd812af1",
   "metadata": {},
   "outputs": [],
   "source": [
    "# Show all the files within the path directory\n",
    "files_names = os.listdir(path)"
   ]
  },
  {
   "cell_type": "code",
   "execution_count": 35,
   "id": "54e022a3-b2d0-4c8f-bf30-7b17db7a439c",
   "metadata": {},
   "outputs": [],
   "source": [
    "# Creating the folders for each file type\n",
    "folder_names = ['csv files', 'image files', 'txt files', 'pdf files', 'ppt files']\n",
    "\n",
    "# Checking if the folders to be created already exist, if not, then print the loop and create the folders respectively\n",
    "\n",
    "for loop in range(0, 5):\n",
    "   if not os.path.exists(path + folder_names[loop]):\n",
    "       print(path + folder_names[loop])\n",
    "       os.makedirs(path + folder_names[loop]) \n",
    "\n",
    "for file in files_names:\n",
    "    if \".csv\" in file and not os.path.exists(path + \"csv files/\" + file):\n",
    "        shutil.move(path + file, path + \"csv files/\" + file)\n",
    "    elif \".png\" in file and not os.path.exists(path + \"image files/\" + file):\n",
    "        shutil.move(path + file, path + \"image files/\" + file)\n",
    "    elif \".txt\" in file and not os.path.exists(path + \"txt files/\" + file):\n",
    "        shutil.move(path + file, path + \"txt files/\" + file)\n",
    "    elif \".pdf\" in file and not os.path.exists(path + \"pdf files/\" + file):\n",
    "        shutil.move(path + file, path + \"pdf files/\" + file)\n",
    "    elif \".pptx\" in file and not os.path.exists(path + \"ppt files/\" + file):\n",
    "        shutil.move(path + file, path + \"ppt files/\" + file)"
   ]
  },
  {
   "cell_type": "code",
   "execution_count": null,
   "id": "43fbad3a-e09c-46f3-8ac4-814e14319e7e",
   "metadata": {},
   "outputs": [],
   "source": []
  },
  {
   "cell_type": "code",
   "execution_count": null,
   "id": "dbf590a6-7c9e-475d-ad9e-8a5f0feba3f6",
   "metadata": {},
   "outputs": [],
   "source": []
  },
  {
   "cell_type": "code",
   "execution_count": null,
   "id": "725da7a5-6567-45ed-bf38-8878d8ca9be5",
   "metadata": {},
   "outputs": [],
   "source": []
  },
  {
   "cell_type": "code",
   "execution_count": null,
   "id": "5af10382-9a3c-4043-ba1d-e6cf644e603b",
   "metadata": {},
   "outputs": [],
   "source": []
  },
  {
   "cell_type": "code",
   "execution_count": null,
   "id": "69d1cd38-43a2-4588-a4de-c61b8033f868",
   "metadata": {},
   "outputs": [],
   "source": []
  },
  {
   "cell_type": "code",
   "execution_count": null,
   "id": "9239b3c8-85d0-4c63-bf44-26d76b2746d8",
   "metadata": {},
   "outputs": [],
   "source": []
  },
  {
   "cell_type": "code",
   "execution_count": null,
   "id": "5085afd1-7ba1-4e4b-af54-eb0d16570857",
   "metadata": {},
   "outputs": [],
   "source": []
  },
  {
   "cell_type": "code",
   "execution_count": null,
   "id": "c2f2dd39-f280-4e11-8232-840f80fcf501",
   "metadata": {},
   "outputs": [],
   "source": []
  },
  {
   "cell_type": "code",
   "execution_count": null,
   "id": "532c1678-fe84-4909-a32d-e9bb05d107a9",
   "metadata": {},
   "outputs": [],
   "source": []
  }
 ],
 "metadata": {
  "kernelspec": {
   "display_name": "Python 3 (ipykernel)",
   "language": "python",
   "name": "python3"
  },
  "language_info": {
   "codemirror_mode": {
    "name": "ipython",
    "version": 3
   },
   "file_extension": ".py",
   "mimetype": "text/x-python",
   "name": "python",
   "nbconvert_exporter": "python",
   "pygments_lexer": "ipython3",
   "version": "3.12.7"
  }
 },
 "nbformat": 4,
 "nbformat_minor": 5
}
